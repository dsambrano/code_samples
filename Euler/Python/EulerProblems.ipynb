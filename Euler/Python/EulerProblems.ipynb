{
 "cells": [
  {
   "cell_type": "code",
   "execution_count": 1,
   "metadata": {
    "collapsed": true
   },
   "outputs": [],
   "source": [
    "# Package Imports\n",
    "import numpy as np"
   ]
  },
  {
   "cell_type": "markdown",
   "metadata": {},
   "source": [
    "# Question 4\n",
    "---"
   ]
  },
  {
   "cell_type": "markdown",
   "metadata": {},
   "source": [
    "A palindromic number reads the same both ways. The largest palindrome made from the product of two 2-digit numbers is 9009 = 91 × 99.\n",
    "\n",
    "Find the largest palindrome made from the product of two 3-digit numbers."
   ]
  },
  {
   "cell_type": "code",
   "execution_count": 58,
   "metadata": {},
   "outputs": [
    {
     "name": "stdout",
     "output_type": "stream",
     "text": [
      "[['980100' '981090' '982080' '983070' '984060' '985050' '986040' '987030'\n",
      "  '988020' '989010' '990000']\n",
      " ['981090' '982081' '983072' '984063' '985054' '986045' '987036' '988027'\n",
      "  '989018' '990009' '991000']\n",
      " ['982080' '983072' '984064' '985056' '986048' '987040' '988032' '989024'\n",
      "  '990016' '991008' '992000']\n",
      " ['983070' '984063' '985056' '986049' '987042' '988035' '989028' '990021'\n",
      "  '991014' '992007' '993000']\n",
      " ['984060' '985054' '986048' '987042' '988036' '989030' '990024' '991018'\n",
      "  '992012' '993006' '994000']\n",
      " ['985050' '986045' '987040' '988035' '989030' '990025' '991020' '992015'\n",
      "  '993010' '994005' '995000']\n",
      " ['986040' '987036' '988032' '989028' '990024' '991020' '992016' '993012'\n",
      "  '994008' '995004' '996000']\n",
      " ['987030' '988027' '989024' '990021' '991018' '992015' '993012' '994009'\n",
      "  '995006' '996003' '997000']\n",
      " ['988020' '989018' '990016' '991014' '992012' '993010' '994008' '995006'\n",
      "  '996004' '997002' '998000']\n",
      " ['989010' '990009' '991008' '992007' '993006' '994005' '995004' '996003'\n",
      "  '997002' '998001' '999000']\n",
      " ['990000' '991000' '992000' '993000' '994000' '995000' '996000' '997000'\n",
      "  '998000' '999000' '1000000']]\n",
      "\n",
      "['980100', '981090', '982080', '983070', '984060', '985050', '986040', '987030', '988020', '989010', '990000']\n",
      "['990000', '989010', '988020', '987030', '986040', '985050', '984060', '983070', '982080', '981090', '980100']\n",
      "['990000', '989010', '988020', '987030', '986040', '985050', '984060', '983070', '982080', '981090', '980100']\n",
      "['000099', '010989', '020889', '030789', '040689', '050589', '060489', '070389', '080289', '090189', '001089']\n"
     ]
    }
   ],
   "source": [
    "def isPalidrome(x):\n",
    "    \n",
    "    if isinstance(x, int):\n",
    "        return x == str(x)[::-1]\n",
    "    else: \n",
    "        raise Exception('There has been an error in the system')\n",
    "        \n",
    "isPalidrome(23)\n",
    "x = np.arange(990,1001)\n",
    "y = np.arange(990,1001)\n",
    "np.dot(x,y.transpose())\n",
    "#isPalidrome(np.outer(x,y))\n",
    "type(np.outer(x,y))\n",
    "test = str(np.outer(x,y))\n",
    "test2 = test[::-1]\n",
    "test2 == test\n",
    "np.str(np.outer(x,y))\n",
    "test = np.outer(x,y).astype(str)\n",
    "print(test)\n",
    "print()\n",
    "# print(test[::-1])\n",
    "# print()\n",
    "# print(test[:])\n",
    "# print()\n",
    "print(list(test[0,:]))\n",
    "print(list(test[0,:][::-1]))\n",
    "\n",
    "\n",
    "line = list(test[0,:][::-1])\n",
    "print(line)\n",
    "\n",
    "newline = [line[::-1] for line in line]\n",
    "print(newline)\n",
    "# type(newline)"
   ]
  }
 ],
 "metadata": {
  "kernelspec": {
   "display_name": "Python 3",
   "language": "python",
   "name": "python3"
  },
  "language_info": {
   "codemirror_mode": {
    "name": "ipython",
    "version": 3
   },
   "file_extension": ".py",
   "mimetype": "text/x-python",
   "name": "python",
   "nbconvert_exporter": "python",
   "pygments_lexer": "ipython3",
   "version": "3.6.2"
  }
 },
 "nbformat": 4,
 "nbformat_minor": 2
}
