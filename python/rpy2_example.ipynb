{
 "cells": [
  {
   "cell_type": "code",
   "execution_count": 2,
   "metadata": {},
   "outputs": [],
   "source": [
    "%load_ext rpy2.ipython"
   ]
  },
  {
   "cell_type": "code",
   "execution_count": 3,
   "metadata": {},
   "outputs": [
    {
     "name": "stderr",
     "output_type": "stream",
     "text": [
      "/Users/deshawn/anaconda2/envs/rpy/lib/python3.7/site-packages/rpy2/rinterface/__init__.py:146: RRuntimeWarning: Loading required package: ggplot2\n",
      "\n",
      "  warnings.warn(x, RRuntimeWarning)\n"
     ]
    },
    {
     "data": {
      "text/plain": [
       "array([1], dtype=int32)"
      ]
     },
     "execution_count": 3,
     "metadata": {},
     "output_type": "execute_result"
    }
   ],
   "source": [
    "%R require(ggplot2)"
   ]
  },
  {
   "cell_type": "code",
   "execution_count": 4,
   "metadata": {},
   "outputs": [],
   "source": [
    "import pandas as pd\n",
    "df = pd.DataFrame({'letter': ['a', 'a', 'a', 'b', 'b', 'b', 'c', 'c', 'c'],\n",
    "                   'x': [4, 3, 5, 2, 1, 7, 7, 5, 9],\n",
    "                   'y': [0, 4, 3, 6, 7, 10, 11, 9, 13],\n",
    "                   'z': [1, 2, 3, 1, 2, 3, 1, 2, 3]})"
   ]
  },
  {
   "cell_type": "code",
   "execution_count": 12,
   "metadata": {},
   "outputs": [
    {
     "data": {
      "text/plain": [
       "     x    y    z\n",
       "x 1.00 0.62 0.45\n",
       "y 0.62 1.00 0.31\n",
       "z 0.45 0.31 1.00\n",
       "\n",
       "n= 9 \n",
       "\n",
       "\n",
       "P\n",
       "  x      y      z     \n",
       "x        0.0727 0.2285\n",
       "y 0.0727        0.4160\n",
       "z 0.2285 0.4160       \n"
      ]
     },
     "metadata": {},
     "output_type": "display_data"
    }
   ],
   "source": [
    "%%R -i df\n",
    "library(Hmisc)\n",
    "df\n",
    "ggplot(data=df) + geom_point(aes(x=x, y=y, color=letter, size=z))\n",
    "# plot(df$x, df$y)\n",
    "rcorr(as.matrix(df[c('x', 'y','z')]))"
   ]
  },
  {
   "cell_type": "code",
   "execution_count": null,
   "metadata": {},
   "outputs": [],
   "source": [
    "import rpy2\n",
    "import rpy2.robjects.packages as rpackages\n",
    "utils = rpackages.importr('utils')\n",
    "\n",
    "utils.chooseCRANmirror(ind=1) # select the first mirror in the list\n",
    "packnames = ('psych', 'lmer4')\n",
    "from rpy2.robjects.vectors import StrVector\n",
    "utils.install_packages(StrVector(packnames))"
   ]
  }
 ],
 "metadata": {
  "kernelspec": {
   "display_name": "Python 3",
   "language": "python",
   "name": "python3"
  },
  "language_info": {
   "codemirror_mode": {
    "name": "ipython",
    "version": 3
   },
   "file_extension": ".py",
   "mimetype": "text/x-python",
   "name": "python",
   "nbconvert_exporter": "python",
   "pygments_lexer": "ipython3",
   "version": "3.7.0"
  }
 },
 "nbformat": 4,
 "nbformat_minor": 2
}
