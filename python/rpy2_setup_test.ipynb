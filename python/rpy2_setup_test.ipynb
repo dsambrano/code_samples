{
 "cells": [
  {
   "cell_type": "code",
   "execution_count": 1,
   "metadata": {},
   "outputs": [],
   "source": [
    "%matplotlib inline\n",
    "import numpy as np\n",
    "import pandas as pd\n",
    "import seaborn as sns\n",
    "import matplotlib.pyplot as plt\n",
    "from scipy.optimize import minimize, Bounds\n",
    "import scipy.stats as stats\n",
    "import rpy2\n",
    "import warnings\n",
    "# warnings.filterwarnings('ignore')"
   ]
  },
  {
   "cell_type": "code",
   "execution_count": 2,
   "metadata": {},
   "outputs": [],
   "source": [
    "%load_ext rpy2.ipython"
   ]
  },
  {
   "cell_type": "code",
   "execution_count": 3,
   "metadata": {},
   "outputs": [],
   "source": [
    "data = pd.DataFrame(np.random.randn(50,5), columns=['a', 'b', 'c', 'd', 'e'])"
   ]
  },
  {
   "cell_type": "code",
   "execution_count": 4,
   "metadata": {},
   "outputs": [
    {
     "name": "stderr",
     "output_type": "stream",
     "text": [
      "/Users/Deshawn/anaconda/envs/rpy/lib/python3.7/site-packages/rpy2/robjects/pandas2ri.py:191: FutureWarning: from_items is deprecated. Please use DataFrame.from_dict(dict(items), ...) instead. DataFrame.from_dict(OrderedDict(items)) may be used to preserve the key order.\n",
      "  res = PandasDataFrame.from_items(items)\n",
      "/Users/Deshawn/anaconda/envs/rpy/lib/python3.7/site-packages/rpy2/rinterface/__init__.py:146: RRuntimeWarning: Loading required package: Hmisc\n",
      "\n",
      "  warnings.warn(x, RRuntimeWarning)\n",
      "/Users/Deshawn/anaconda/envs/rpy/lib/python3.7/site-packages/rpy2/rinterface/__init__.py:146: RRuntimeWarning: Loading required package: lattice\n",
      "\n",
      "  warnings.warn(x, RRuntimeWarning)\n",
      "/Users/Deshawn/anaconda/envs/rpy/lib/python3.7/site-packages/rpy2/rinterface/__init__.py:146: RRuntimeWarning: Loading required package: survival\n",
      "\n",
      "  warnings.warn(x, RRuntimeWarning)\n",
      "/Users/Deshawn/anaconda/envs/rpy/lib/python3.7/site-packages/rpy2/rinterface/__init__.py:146: RRuntimeWarning: Loading required package: Formula\n",
      "\n",
      "  warnings.warn(x, RRuntimeWarning)\n",
      "/Users/Deshawn/anaconda/envs/rpy/lib/python3.7/site-packages/rpy2/rinterface/__init__.py:146: RRuntimeWarning: Loading required package: ggplot2\n",
      "\n",
      "  warnings.warn(x, RRuntimeWarning)\n",
      "/Users/Deshawn/anaconda/envs/rpy/lib/python3.7/site-packages/rpy2/rinterface/__init__.py:146: RRuntimeWarning: \n",
      "Attaching package: ‘Hmisc’\n",
      "\n",
      "\n",
      "  warnings.warn(x, RRuntimeWarning)\n",
      "/Users/Deshawn/anaconda/envs/rpy/lib/python3.7/site-packages/rpy2/rinterface/__init__.py:146: RRuntimeWarning: The following objects are masked from ‘package:base’:\n",
      "\n",
      "    format.pval, units\n",
      "\n",
      "\n",
      "  warnings.warn(x, RRuntimeWarning)\n",
      "/Users/Deshawn/anaconda/envs/rpy/lib/python3.7/site-packages/rpy2/rinterface/__init__.py:146: RRuntimeWarning: Loading required package: psych\n",
      "\n",
      "  warnings.warn(x, RRuntimeWarning)\n",
      "/Users/Deshawn/anaconda/envs/rpy/lib/python3.7/site-packages/rpy2/rinterface/__init__.py:146: RRuntimeWarning: \n",
      "Attaching package: ‘psych’\n",
      "\n",
      "\n",
      "  warnings.warn(x, RRuntimeWarning)\n",
      "/Users/Deshawn/anaconda/envs/rpy/lib/python3.7/site-packages/rpy2/rinterface/__init__.py:146: RRuntimeWarning: The following object is masked from ‘package:Hmisc’:\n",
      "\n",
      "    describe\n",
      "\n",
      "\n",
      "  warnings.warn(x, RRuntimeWarning)\n",
      "/Users/Deshawn/anaconda/envs/rpy/lib/python3.7/site-packages/rpy2/rinterface/__init__.py:146: RRuntimeWarning: The following objects are masked from ‘package:ggplot2’:\n",
      "\n",
      "    %+%, alpha\n",
      "\n",
      "\n",
      "  warnings.warn(x, RRuntimeWarning)\n",
      "/Users/Deshawn/anaconda/envs/rpy/lib/python3.7/site-packages/rpy2/rinterface/__init__.py:146: RRuntimeWarning: Loading required package: lme4\n",
      "\n",
      "  warnings.warn(x, RRuntimeWarning)\n",
      "/Users/Deshawn/anaconda/envs/rpy/lib/python3.7/site-packages/rpy2/rinterface/__init__.py:146: RRuntimeWarning: Loading required package: Matrix\n",
      "\n",
      "  warnings.warn(x, RRuntimeWarning)\n",
      "/Users/Deshawn/anaconda/envs/rpy/lib/python3.7/site-packages/rpy2/rinterface/__init__.py:146: RRuntimeWarning: Loading required package: lmerTest\n",
      "\n",
      "  warnings.warn(x, RRuntimeWarning)\n",
      "/Users/Deshawn/anaconda/envs/rpy/lib/python3.7/site-packages/rpy2/rinterface/__init__.py:146: RRuntimeWarning: \n",
      "Attaching package: ‘lmerTest’\n",
      "\n",
      "\n",
      "  warnings.warn(x, RRuntimeWarning)\n",
      "/Users/Deshawn/anaconda/envs/rpy/lib/python3.7/site-packages/rpy2/rinterface/__init__.py:146: RRuntimeWarning: The following object is masked from ‘package:lme4’:\n",
      "\n",
      "    lmer\n",
      "\n",
      "\n",
      "  warnings.warn(x, RRuntimeWarning)\n",
      "/Users/Deshawn/anaconda/envs/rpy/lib/python3.7/site-packages/rpy2/rinterface/__init__.py:146: RRuntimeWarning: The following object is masked from ‘package:stats’:\n",
      "\n",
      "    step\n",
      "\n",
      "\n",
      "  warnings.warn(x, RRuntimeWarning)\n"
     ]
    },
    {
     "data": {
      "text/plain": [
       "[1] 50  6\n",
       "   item group1 vars  n  mean   sd median trimmed  mad   min  max range  skew kurtosis   se\n",
       "a1    1      a    1 25 -0.36 1.25  -0.46   -0.41 1.45 -2.23 2.39  4.62  0.13    -0.91 0.25\n",
       "a2    2      b    1 25  0.16 0.93   0.35    0.18 0.97 -1.61 1.64  3.24 -0.31    -1.14 0.19\n",
       "b1    3      a    2 25  0.36 1.14   0.17    0.35 1.29 -1.87 2.69  4.56  0.13    -0.73 0.23\n",
       "b2    4      b    2 25  0.07 0.92  -0.12    0.07 0.81 -1.52 1.91  3.44  0.19    -0.95 0.18\n",
       "c1    5      a    3 25  0.05 0.66   0.30    0.12 0.65 -1.86 0.88  2.74 -1.05     0.74 0.13\n",
       "c2    6      b    3 25  0.08 0.91   0.26    0.10 0.94 -1.56 1.60  3.16 -0.28    -1.23 0.18\n",
       "d1    7      a    4 25 -0.21 0.70  -0.10   -0.16 0.53 -2.69 0.86  3.55 -1.53     3.92 0.14\n",
       "d2    8      b    4 25 -0.19 1.21  -0.05   -0.14 0.94 -3.08 2.11  5.18 -0.37    -0.10 0.24\n",
       "e1    9      a    5 25  0.15 0.83   0.17    0.14 0.60 -1.84 1.88  3.72 -0.06     0.05 0.17\n",
       "e2   10      b    5 25 -0.04 0.86  -0.16   -0.07 0.71 -1.67 2.25  3.92  0.49     0.23 0.17\n"
      ]
     },
     "metadata": {},
     "output_type": "display_data"
    }
   ],
   "source": [
    "%%R -i data \n",
    "options(width=120)\n",
    "require(Hmisc)\n",
    "require(psych)\n",
    "require(ggplot2)\n",
    "require(lme4)\n",
    "require(lmerTest)\n",
    "\n",
    "data = data.frame(data, cond=c(rep('a', dim(data)[1]/2), rep('b', dim(data)[1]/2)))\n",
    "print(dim(data))\n",
    "\n",
    "describeBy(data[,-length(data)], group=data$cond, mat=TRUE, digits=2)"
   ]
  }
 ],
 "metadata": {
  "kernelspec": {
   "display_name": "Python 3",
   "language": "python",
   "name": "python3"
  },
  "language_info": {
   "codemirror_mode": {
    "name": "ipython",
    "version": 3
   },
   "file_extension": ".py",
   "mimetype": "text/x-python",
   "name": "python",
   "nbconvert_exporter": "python",
   "pygments_lexer": "ipython3",
   "version": "3.7.0"
  }
 },
 "nbformat": 4,
 "nbformat_minor": 2
}
